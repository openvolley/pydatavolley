{
 "cells": [
  {
   "cell_type": "code",
   "execution_count": 1,
   "metadata": {},
   "outputs": [],
   "source": [
    "from datavolley import read_dv\n",
    "import pandas as pd"
   ]
  },
  {
   "cell_type": "code",
   "execution_count": 2,
   "metadata": {},
   "outputs": [],
   "source": [
    "import urllib.request\n",
    "datavolleyfile=\"&stuttgart-schwerin-2018.dvw\"\n",
    "url_source_file = \"https://raw.githubusercontent.com/openvolley/ovva/master/inst/extdata/demo/%26stuttgart-schwerin-2018.dvw\"\n",
    "source = urllib.request.urlopen(url_source_file).read().decode('UTF-8')\n",
    "# Scrittura dei dati in un file locale\n",
    "with open(datavolleyfile, 'w') as file:\n",
    "    file.write(source)"
   ]
  },
  {
   "cell_type": "code",
   "execution_count": 3,
   "metadata": {},
   "outputs": [],
   "source": [
    "# change this if you have your file\n",
    "datavolleyfile=\"&stuttgart-schwerin-2018.dvw\"\n",
    "# Reading the file\n",
    "dvf = read_dv.DataVolley(datavolleyfile)\n",
    "# extract all the actions\n",
    "plays = dvf.get_plays()"
   ]
  },
  {
   "cell_type": "code",
   "execution_count": 4,
   "metadata": {},
   "outputs": [],
   "source": [
    "championship = dvf.match_info.championship.values[0]\n",
    "match_day = dvf.match_info.day.values[0]\n",
    "match_time = dvf.match_info.time.values[0]\n",
    "match_season = dvf.match_info.season.values[0]"
   ]
  },
  {
   "cell_type": "code",
   "execution_count": 5,
   "metadata": {},
   "outputs": [],
   "source": [
    "total_minutes = dvf.sets_info.duration.sum()\n",
    "hours = total_minutes // 60\n",
    "minutes = total_minutes % 60"
   ]
  },
  {
   "cell_type": "code",
   "execution_count": 6,
   "metadata": {},
   "outputs": [],
   "source": [
    "string_sets = \"\"\n",
    "duraton_sets = \"\"\n",
    "for idx, row in dvf.sets_info.iterrows():\n",
    "   string_sets += \"(\" + str(row[\"home4\"]) + \"-\" + str(row[\"visitor4\"]) + \") \"\n",
    "   duraton_sets += str(row[\"duration\"]) + \"',\""
   ]
  },
  {
   "cell_type": "code",
   "execution_count": 7,
   "metadata": {},
   "outputs": [],
   "source": [
    "duration_sets = duraton_sets.rstrip(\",\")"
   ]
  },
  {
   "cell_type": "code",
   "execution_count": 8,
   "metadata": {},
   "outputs": [
    {
     "name": "stdout",
     "output_type": "stream",
     "text": [
      "\n",
      "26/12/2023 - 17.00.00\n",
      "Serie A1 Femminile\n",
      "Wash4green Pinerolo - HONDA OLIVERO S.BERNARDO CUNEO \n",
      "2-3 (25-20) (13-25) (25-23) (22-25) (15-17) \n",
      "duration: 02:06h (27',22',29',26',22')\n",
      "\n"
     ]
    }
   ],
   "source": [
    "print(\"\"\"\n",
    "%s - %s\n",
    "%s\n",
    "%s - %s \n",
    "%s-%s %s\n",
    "duration: %s:%sh (%s)\n",
    "\"\"\" % (match_day, match_time, championship, dvf.home_team, \n",
    "       dvf.visiting_team, dvf.home_setswon, dvf.visiting_setswon,\n",
    "       string_sets,str(hours).zfill(2), str(minutes).zfill(2), duration_sets))\n"
   ]
  },
  {
   "cell_type": "code",
   "execution_count": 9,
   "metadata": {},
   "outputs": [
    {
     "name": "stdout",
     "output_type": "stream",
     "text": [
      "Wash4green Pinerolo\n",
      "name\tname\n",
      "1\tIndre Sorokaite (18,9)\n",
      "2\tFrancesca Cosi (0,2)\n",
      "3\tCarlotta Cambi (0,5)\n",
      "4\tGiada Di Mario (0,5)\n",
      "5\tTessa Polder (2,5)\n",
      "8\tSilvia Bussoli (0,0)\n",
      "9\tMatilde Rostagno (0,0)\n",
      "10\tIlenia Moro (0,4)\n",
      "11\tMaja Storck (16,8)\n",
      "12\tLetizia Camera (0,1)\n",
      "13\tAnett Nemeth (4,1)\n",
      "18\tYasmina Akrari (12,9)\n",
      "19\tAdelina Ungureanu (29,8)\n",
      "coaches\n",
      " Marchiaro Michele\n",
      " Naddeo Alberto\n",
      "\n",
      "in parentheses: number of points, number of errors\n"
     ]
    }
   ],
   "source": [
    "print(dvf.home_team)\n",
    "print(\"name\\tname\")\n",
    "players = dvf.players_home\n",
    "players['player_number'] = pd.to_numeric(players['player_number'], errors='coerce')\n",
    "players = players.sort_values(\"player_number\")\n",
    "plays = dvf.get_plays()\n",
    "for idx, row in players.iterrows():\n",
    "    player_number = row[\"player_number\"]\n",
    "    player_name = row['player_name'].rstrip()\n",
    "    player_id = row['player_id']\n",
    "    points = plays[(plays.player_id == player_id) & plays.skill.isin(['Attack', 'Serve','Block']) & (plays.evaluation_code == \"#\")].shape[0]\n",
    "    errors = plays[(plays.player_id == player_id) & plays.skill.isin(['Attack', 'Reception','Dig','Set','Block']) & (plays.evaluation_code == \"=\")].shape[0]\n",
    "    print(\"\"\"%s\\t%s (%i,%i)\"\"\" % (player_number,player_name, points, errors))\n",
    "print(\"coaches\")\n",
    "print(\" \" + dvf.home_coaches[0])\n",
    "print(\" \" + dvf.home_coaches[1])\n",
    "print(\"\\nin parentheses: number of points, number of errors\")"
   ]
  },
  {
   "cell_type": "code",
   "execution_count": 10,
   "metadata": {},
   "outputs": [
    {
     "data": {
      "text/plain": [
       "'Marchiaro Michele'"
      ]
     },
     "execution_count": 10,
     "metadata": {},
     "output_type": "execute_result"
    }
   ],
   "source": [
    "dvf.home_coaches[0]"
   ]
  },
  {
   "cell_type": "code",
   "execution_count": 11,
   "metadata": {},
   "outputs": [
    {
     "name": "stdout",
     "output_type": "stream",
     "text": [
      "HONDA OLIVERO S.BERNARDO CUNEO\n",
      "name\tname\n",
      "2\tFrancesca Scola (0,0)\n",
      "4\tSaly Thior (0,0)\n",
      "5\tAlice Tanase (0,0)\n",
      "6\tFederica Ferrario (0,5)\n",
      "7\tAmandha Sylves (13,8)\n",
      "8\tLena Stigrot (17,10)\n",
      "9\tAnna Adelusi (7,6)\n",
      "10\tMadison Kubik (19,6)\n",
      "12\tTerry Ruth Enweonwu (6,11)\n",
      "13\tNoemi Signorile (3,2)\n",
      "14\tAnna Hall (15,2)\n",
      "15\tSerena Scognamillo (0,0)\n",
      "17\tAnna Haak (2,1)\n",
      "21\tBeatrice Molinaro (0,0)\n",
      "coaches\n",
      " Bellano Massimo\n",
      " Aime Emanuele\n",
      "\n",
      "in parentheses: number of points, number of errors\n"
     ]
    }
   ],
   "source": [
    "print(dvf.visiting_team)\n",
    "print(\"name\\tname\")\n",
    "players = dvf.players_visiting\n",
    "players['player_number'] = pd.to_numeric(players['player_number'], errors='coerce')\n",
    "players = players.sort_values(\"player_number\")\n",
    "plays = dvf.get_plays()\n",
    "for idx, row in players.iterrows():\n",
    "    player_number = row[\"player_number\"]\n",
    "    player_name = row['player_name'].rstrip()\n",
    "    player_id = row['player_id']\n",
    "    points = plays[(plays.player_id == player_id) & plays.skill.isin(['Attack', 'Serve','Block']) & (plays.evaluation_code == \"#\")].shape[0]\n",
    "    errors = plays[(plays.player_id == player_id) & plays.skill.isin(['Attack', 'Reception','Dig','Set','Block']) & (plays.evaluation_code == \"=\")].shape[0]\n",
    "    print(\"\"\"%s\\t%s (%i,%i)\"\"\" % (player_number,player_name, points, errors))\n",
    "print(\"coaches\")\n",
    "print(\" \" + dvf.visiting_coaches[0])\n",
    "print(\" \" + dvf.visiting_coaches[1])\n",
    "print(\"\\nin parentheses: number of points, number of errors\")"
   ]
  }
 ],
 "metadata": {
  "kernelspec": {
   "display_name": "Python 3",
   "language": "python",
   "name": "python3"
  },
  "language_info": {
   "codemirror_mode": {
    "name": "ipython",
    "version": 3
   },
   "file_extension": ".py",
   "mimetype": "text/x-python",
   "name": "python",
   "nbconvert_exporter": "python",
   "pygments_lexer": "ipython3",
   "version": "3.11.6"
  }
 },
 "nbformat": 4,
 "nbformat_minor": 2
}
