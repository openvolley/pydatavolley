{
 "cells": [
  {
   "cell_type": "markdown",
   "metadata": {},
   "source": [
    "# Heatmap of Attack Directions\n",
    "The code demonstrates how to extract the coordinates of a team's attack directions and displays the points of arrival and intensity through a heatmap."
   ]
  },
  {
   "cell_type": "markdown",
   "metadata": {},
   "source": [
    "## Setup \n",
    "import of the needed libraries"
   ]
  },
  {
   "cell_type": "code",
   "execution_count": 6,
   "metadata": {},
   "outputs": [],
   "source": [
    "from datavolley import read_dv\n",
    "import datavolley.pycourt as pycourt\n",
    "import datavolley.pycourt as half_pycourt \n",
    "import matplotlib.pyplot as plt\n",
    "import pandas as pd\n",
    "import numpy as np\n",
    "import seaborn as sns\n",
    "import warnings\n",
    "warnings.filterwarnings(\"ignore\", \"is_categorical_dtype\")\n",
    "warnings.filterwarnings(\"ignore\", \"use_inf_as_na\")"
   ]
  },
  {
   "cell_type": "markdown",
   "metadata": {},
   "source": [
    "## Data reading\n",
    "In this case, we will use the sample data that PyDataVolley is built upon and extract the actions using the get_plays() method."
   ]
  },
  {
   "cell_type": "code",
   "execution_count": 7,
   "metadata": {},
   "outputs": [],
   "source": [
    "dvf = read_dv.DataVolley()\n",
    "plays = dvf.get_plays()"
   ]
  },
  {
   "cell_type": "markdown",
   "metadata": {},
   "source": [
    "## Visualize the arrival of attacks\n",
    "From the game actions we extract the information the x and y coordinates of the point of arrival of the attack.\n",
    "Our goal is to visualize the points where the ball arrives: where most of the play therefore takes place."
   ]
  },
  {
   "cell_type": "code",
   "execution_count": 8,
   "metadata": {},
   "outputs": [
    {
     "data": {
      "image/png": "[encoded data removed]",
      "text/plain": [
       "<Figure size 640x480 with 1 Axes>"
      ]
     },
     "metadata": {},
     "output_type": "display_data"
    }
   ],
   "source": [
    "attacks_data= plays[(plays['skill'] == 'Attack') & (plays.home_team==dvf.home_team)] \n",
    "coordinate_df = attacks_data[['end_coordinate_x','end_coordinate_y']]\n",
    "\n",
    "def plot_coordinates(coordinates):\n",
    "    pycourt.pycourt()\n",
    "    # Plot the coordinates\n",
    "    plt.scatter(coordinates['end_coordinate_x'], coordinates['end_coordinate_y'], color='red')\n",
    "    plt.show(block=True)\n",
    "\n",
    "plot_coordinates(coordinate_df)"
   ]
  },
  {
   "cell_type": "markdown",
   "metadata": {},
   "source": [
    "## Visualize the heatmap of attacks\n",
    "Using the same data we create the kernel density with seaborn and draw it on the field\n"
   ]
  },
  {
   "cell_type": "code",
   "execution_count": 9,
   "metadata": {},
   "outputs": [
    {
     "data": {
      "image/png": "[encoded data removed]",
      "text/plain": [
       "<Figure size 640x480 with 1 Axes>"
      ]
     },
     "metadata": {},
     "output_type": "display_data"
    }
   ],
   "source": [
    "# heatmap of the end direction of attacks\n",
    "fig, ax = plt.subplots()\n",
    "pycourt.pycourt(ax)\n",
    "sns.kdeplot(x=coordinate_df['end_coordinate_x'], y=coordinate_df['end_coordinate_y'], ax=ax, cmap=\"YlOrRd\", fill=True, alpha=0.5)\n",
    "plt.show()\n"
   ]
  },
  {
   "cell_type": "markdown",
   "metadata": {},
   "source": [
    "# Half a field\n",
    "Among the functions available in pydatavolley is the ability to display half a court.\n",
    "Here we show how to use it\n"
   ]
  },
  {
   "cell_type": "code",
   "execution_count": 10,
   "metadata": {},
   "outputs": [
    {
     "data": {
      "image/png": "[encoded data removed]",
      "text/plain": [
       "<Figure size 640x480 with 1 Axes>"
      ]
     },
     "metadata": {},
     "output_type": "display_data"
    }
   ],
   "source": [
    "# Creating the volleyball court\n",
    "fig, ax = plt.subplots()\n",
    "pycourt.half_pycourt(ax)\n",
    "# Creating the heatmap\n",
    "sns.kdeplot(x=coordinate_df['end_coordinate_x'], y=coordinate_df['end_coordinate_y'], ax=ax, cmap=\"YlOrRd\", fill=True, alpha=0.5)\n",
    "plt.show()"
   ]
  },
  {
   "cell_type": "code",
   "execution_count": 15,
   "metadata": {},
   "outputs": [],
   "source": [
    "df = plays[(plays['skill'] == 'Attack')]\n",
    "total_attacks = df.groupby(['player_name', 'team']).size().reset_index(name='total')"
   ]
  },
  {
   "cell_type": "code",
   "execution_count": 16,
   "metadata": {},
   "outputs": [
    {
     "data": {
      "text/html": [
       "<div>\n",
       "<style scoped>\n",
       "    .dataframe tbody tr th:only-of-type {\n",
       "        vertical-align: middle;\n",
       "    }\n",
       "\n",
       "    .dataframe tbody tr th {\n",
       "        vertical-align: top;\n",
       "    }\n",
       "\n",
       "    .dataframe thead th {\n",
       "        text-align: right;\n",
       "    }\n",
       "</style>\n",
       "<table border=\"1\" class=\"dataframe\">\n",
       "  <thead>\n",
       "    <tr style=\"text-align: right;\">\n",
       "      <th></th>\n",
       "      <th>player_name</th>\n",
       "      <th>team</th>\n",
       "      <th>total</th>\n",
       "    </tr>\n",
       "  </thead>\n",
       "  <tbody>\n",
       "    <tr>\n",
       "      <th>0</th>\n",
       "      <td>Aiko Jones</td>\n",
       "      <td>University of Louisville</td>\n",
       "      <td>9</td>\n",
       "    </tr>\n",
       "    <tr>\n",
       "      <th>1</th>\n",
       "      <td>Alexa Hendricks</td>\n",
       "      <td>University of Louisville</td>\n",
       "      <td>8</td>\n",
       "    </tr>\n",
       "    <tr>\n",
       "      <th>2</th>\n",
       "      <td>Alli Papesh</td>\n",
       "      <td>University of Dayton</td>\n",
       "      <td>15</td>\n",
       "    </tr>\n",
       "    <tr>\n",
       "      <th>3</th>\n",
       "      <td>Amaya Tillman</td>\n",
       "      <td>University of Louisville</td>\n",
       "      <td>8</td>\n",
       "    </tr>\n",
       "    <tr>\n",
       "      <th>4</th>\n",
       "      <td>Amelia Moore</td>\n",
       "      <td>University of Dayton</td>\n",
       "      <td>9</td>\n",
       "    </tr>\n",
       "    <tr>\n",
       "      <th>5</th>\n",
       "      <td>Anna Stevenson</td>\n",
       "      <td>University of Louisville</td>\n",
       "      <td>11</td>\n",
       "    </tr>\n",
       "    <tr>\n",
       "      <th>6</th>\n",
       "      <td>Bridget Doherty</td>\n",
       "      <td>University of Dayton</td>\n",
       "      <td>3</td>\n",
       "    </tr>\n",
       "    <tr>\n",
       "      <th>7</th>\n",
       "      <td>Brooke Westbeld</td>\n",
       "      <td>University of Dayton</td>\n",
       "      <td>6</td>\n",
       "    </tr>\n",
       "    <tr>\n",
       "      <th>8</th>\n",
       "      <td>Claire Chaussee</td>\n",
       "      <td>University of Louisville</td>\n",
       "      <td>12</td>\n",
       "    </tr>\n",
       "    <tr>\n",
       "      <th>9</th>\n",
       "      <td>Emily Scott</td>\n",
       "      <td>University of Louisville</td>\n",
       "      <td>10</td>\n",
       "    </tr>\n",
       "    <tr>\n",
       "      <th>10</th>\n",
       "      <td>Jamie Peterson</td>\n",
       "      <td>University of Dayton</td>\n",
       "      <td>31</td>\n",
       "    </tr>\n",
       "    <tr>\n",
       "      <th>11</th>\n",
       "      <td>Jordan Albarran</td>\n",
       "      <td>University of Dayton</td>\n",
       "      <td>1</td>\n",
       "    </tr>\n",
       "    <tr>\n",
       "      <th>12</th>\n",
       "      <td>Mel McHenry</td>\n",
       "      <td>University of Louisville</td>\n",
       "      <td>23</td>\n",
       "    </tr>\n",
       "    <tr>\n",
       "      <th>13</th>\n",
       "      <td>Mikaylah Van Lanen</td>\n",
       "      <td>University of Dayton</td>\n",
       "      <td>2</td>\n",
       "    </tr>\n",
       "    <tr>\n",
       "      <th>14</th>\n",
       "      <td>Molly Asmus</td>\n",
       "      <td>University of Dayton</td>\n",
       "      <td>2</td>\n",
       "    </tr>\n",
       "    <tr>\n",
       "      <th>15</th>\n",
       "      <td>Olivia Dubay</td>\n",
       "      <td>University of Dayton</td>\n",
       "      <td>13</td>\n",
       "    </tr>\n",
       "    <tr>\n",
       "      <th>16</th>\n",
       "      <td>Player2 player2</td>\n",
       "      <td>University of Louisville</td>\n",
       "      <td>10</td>\n",
       "    </tr>\n",
       "    <tr>\n",
       "      <th>17</th>\n",
       "      <td>Rachael Fara</td>\n",
       "      <td>University of Dayton</td>\n",
       "      <td>10</td>\n",
       "    </tr>\n",
       "    <tr>\n",
       "      <th>18</th>\n",
       "      <td>Shannon Shields</td>\n",
       "      <td>University of Louisville</td>\n",
       "      <td>2</td>\n",
       "    </tr>\n",
       "    <tr>\n",
       "      <th>19</th>\n",
       "      <td>Sierra Pla</td>\n",
       "      <td>University of Dayton</td>\n",
       "      <td>5</td>\n",
       "    </tr>\n",
       "  </tbody>\n",
       "</table>\n",
       "</div>"
      ],
      "text/plain": [
       "           player_name                      team  total\n",
       "0           Aiko Jones  University of Louisville      9\n",
       "1      Alexa Hendricks  University of Louisville      8\n",
       "2          Alli Papesh      University of Dayton     15\n",
       "3        Amaya Tillman  University of Louisville      8\n",
       "4         Amelia Moore      University of Dayton      9\n",
       "5       Anna Stevenson  University of Louisville     11\n",
       "6      Bridget Doherty      University of Dayton      3\n",
       "7      Brooke Westbeld      University of Dayton      6\n",
       "8      Claire Chaussee  University of Louisville     12\n",
       "9          Emily Scott  University of Louisville     10\n",
       "10      Jamie Peterson      University of Dayton     31\n",
       "11     Jordan Albarran      University of Dayton      1\n",
       "12         Mel McHenry  University of Louisville     23\n",
       "13  Mikaylah Van Lanen      University of Dayton      2\n",
       "14         Molly Asmus      University of Dayton      2\n",
       "15        Olivia Dubay      University of Dayton     13\n",
       "16     Player2 player2  University of Louisville     10\n",
       "17        Rachael Fara      University of Dayton     10\n",
       "18     Shannon Shields  University of Louisville      2\n",
       "19          Sierra Pla      University of Dayton      5"
      ]
     },
     "execution_count": 16,
     "metadata": {},
     "output_type": "execute_result"
    }
   ],
   "source": [
    "total_attacks"
   ]
  }
 ],
 "metadata": {
  "kernelspec": {
   "display_name": "Python 3",
   "language": "python",
   "name": "python3"
  },
  "language_info": {
   "codemirror_mode": {
    "name": "ipython",
    "version": 3
   },
   "file_extension": ".py",
   "mimetype": "text/x-python",
   "name": "python",
   "nbconvert_exporter": "python",
   "pygments_lexer": "ipython3",
   "version": "3.11.6"
  }
 },
 "nbformat": 4,
 "nbformat_minor": 2
}
